{
  "nbformat": 4,
  "nbformat_minor": 0,
  "metadata": {
    "colab": {
      "provenance": []
    },
    "kernelspec": {
      "name": "python3",
      "display_name": "Python 3"
    },
    "language_info": {
      "name": "python"
    }
  },
  "cells": [
    {
      "cell_type": "markdown",
      "source": [
        "# Sentiment Analysis Review Produk"
      ],
      "metadata": {
        "id": "hr4ojSzQ6AAG"
      }
    },
    {
      "cell_type": "markdown",
      "source": [
        "Download library Sastrawi untuk stemming text berbahasa indonesia"
      ],
      "metadata": {
        "id": "O3-_ftcY8Sim"
      }
    },
    {
      "cell_type": "code",
      "source": [
        "!pip install Sastrawi"
      ],
      "metadata": {
        "colab": {
          "base_uri": "https://localhost:8080/"
        },
        "id": "JBCdDl26wQuk",
        "outputId": "07ce6409-b6df-420e-e4d5-2d265bbb291a"
      },
      "execution_count": 1,
      "outputs": [
        {
          "output_type": "stream",
          "name": "stdout",
          "text": [
            "Collecting Sastrawi\n",
            "  Downloading Sastrawi-1.0.1-py2.py3-none-any.whl (209 kB)\n",
            "\u001b[2K     \u001b[90m━━━━━━━━━━━━━━━━━━━━━━━━━━━━━━━━━━━━━━━━\u001b[0m \u001b[32m209.7/209.7 kB\u001b[0m \u001b[31m3.8 MB/s\u001b[0m eta \u001b[36m0:00:00\u001b[0m\n",
            "\u001b[?25hInstalling collected packages: Sastrawi\n",
            "Successfully installed Sastrawi-1.0.1\n"
          ]
        }
      ]
    },
    {
      "cell_type": "markdown",
      "source": [
        "Import library-library yang dibutuhkan"
      ],
      "metadata": {
        "id": "GCf_IckF8YTB"
      }
    },
    {
      "cell_type": "code",
      "execution_count": 2,
      "metadata": {
        "id": "IqKD0FPuYJ_u",
        "colab": {
          "base_uri": "https://localhost:8080/"
        },
        "outputId": "c077b2ae-4ada-496e-c366-05740cb008fd"
      },
      "outputs": [
        {
          "output_type": "stream",
          "name": "stderr",
          "text": [
            "[nltk_data] Downloading package stopwords to /root/nltk_data...\n",
            "[nltk_data]   Unzipping corpora/stopwords.zip.\n"
          ]
        },
        {
          "output_type": "execute_result",
          "data": {
            "text/plain": [
              "True"
            ]
          },
          "metadata": {},
          "execution_count": 2
        }
      ],
      "source": [
        "import nltk\n",
        "from nltk.corpus import stopwords as sw\n",
        "import tensorflow as tf\n",
        "from tensorflow.keras.preprocessing.text import Tokenizer\n",
        "from tensorflow.keras.preprocessing.sequence import pad_sequences\n",
        "from sklearn.model_selection import train_test_split\n",
        "import numpy as np\n",
        "import matplotlib.pyplot as plt\n",
        "from Sastrawi.Stemmer.StemmerFactory import StemmerFactory\n",
        "import csv\n",
        "import zipfile\n",
        "import re\n",
        "nltk.download('stopwords')"
      ]
    },
    {
      "cell_type": "markdown",
      "source": [
        "Upload file menggunakan method bawaan google colab"
      ],
      "metadata": {
        "id": "guNgCZcc8b3f"
      }
    },
    {
      "cell_type": "code",
      "source": [
        "from google.colab import files\n",
        "\n",
        "uploaded = files.upload()"
      ],
      "metadata": {
        "colab": {
          "base_uri": "https://localhost:8080/",
          "height": 73
        },
        "id": "NF7cNHAJfi7d",
        "outputId": "1afcde30-915b-46ed-ca84-7737a880ad8d"
      },
      "execution_count": 3,
      "outputs": [
        {
          "output_type": "display_data",
          "data": {
            "text/plain": [
              "<IPython.core.display.HTML object>"
            ],
            "text/html": [
              "\n",
              "     <input type=\"file\" id=\"files-efeaf971-a492-4d54-ba04-41099c87855c\" name=\"files[]\" multiple disabled\n",
              "        style=\"border:none\" />\n",
              "     <output id=\"result-efeaf971-a492-4d54-ba04-41099c87855c\">\n",
              "      Upload widget is only available when the cell has been executed in the\n",
              "      current browser session. Please rerun this cell to enable.\n",
              "      </output>\n",
              "      <script>// Copyright 2017 Google LLC\n",
              "//\n",
              "// Licensed under the Apache License, Version 2.0 (the \"License\");\n",
              "// you may not use this file except in compliance with the License.\n",
              "// You may obtain a copy of the License at\n",
              "//\n",
              "//      http://www.apache.org/licenses/LICENSE-2.0\n",
              "//\n",
              "// Unless required by applicable law or agreed to in writing, software\n",
              "// distributed under the License is distributed on an \"AS IS\" BASIS,\n",
              "// WITHOUT WARRANTIES OR CONDITIONS OF ANY KIND, either express or implied.\n",
              "// See the License for the specific language governing permissions and\n",
              "// limitations under the License.\n",
              "\n",
              "/**\n",
              " * @fileoverview Helpers for google.colab Python module.\n",
              " */\n",
              "(function(scope) {\n",
              "function span(text, styleAttributes = {}) {\n",
              "  const element = document.createElement('span');\n",
              "  element.textContent = text;\n",
              "  for (const key of Object.keys(styleAttributes)) {\n",
              "    element.style[key] = styleAttributes[key];\n",
              "  }\n",
              "  return element;\n",
              "}\n",
              "\n",
              "// Max number of bytes which will be uploaded at a time.\n",
              "const MAX_PAYLOAD_SIZE = 100 * 1024;\n",
              "\n",
              "function _uploadFiles(inputId, outputId) {\n",
              "  const steps = uploadFilesStep(inputId, outputId);\n",
              "  const outputElement = document.getElementById(outputId);\n",
              "  // Cache steps on the outputElement to make it available for the next call\n",
              "  // to uploadFilesContinue from Python.\n",
              "  outputElement.steps = steps;\n",
              "\n",
              "  return _uploadFilesContinue(outputId);\n",
              "}\n",
              "\n",
              "// This is roughly an async generator (not supported in the browser yet),\n",
              "// where there are multiple asynchronous steps and the Python side is going\n",
              "// to poll for completion of each step.\n",
              "// This uses a Promise to block the python side on completion of each step,\n",
              "// then passes the result of the previous step as the input to the next step.\n",
              "function _uploadFilesContinue(outputId) {\n",
              "  const outputElement = document.getElementById(outputId);\n",
              "  const steps = outputElement.steps;\n",
              "\n",
              "  const next = steps.next(outputElement.lastPromiseValue);\n",
              "  return Promise.resolve(next.value.promise).then((value) => {\n",
              "    // Cache the last promise value to make it available to the next\n",
              "    // step of the generator.\n",
              "    outputElement.lastPromiseValue = value;\n",
              "    return next.value.response;\n",
              "  });\n",
              "}\n",
              "\n",
              "/**\n",
              " * Generator function which is called between each async step of the upload\n",
              " * process.\n",
              " * @param {string} inputId Element ID of the input file picker element.\n",
              " * @param {string} outputId Element ID of the output display.\n",
              " * @return {!Iterable<!Object>} Iterable of next steps.\n",
              " */\n",
              "function* uploadFilesStep(inputId, outputId) {\n",
              "  const inputElement = document.getElementById(inputId);\n",
              "  inputElement.disabled = false;\n",
              "\n",
              "  const outputElement = document.getElementById(outputId);\n",
              "  outputElement.innerHTML = '';\n",
              "\n",
              "  const pickedPromise = new Promise((resolve) => {\n",
              "    inputElement.addEventListener('change', (e) => {\n",
              "      resolve(e.target.files);\n",
              "    });\n",
              "  });\n",
              "\n",
              "  const cancel = document.createElement('button');\n",
              "  inputElement.parentElement.appendChild(cancel);\n",
              "  cancel.textContent = 'Cancel upload';\n",
              "  const cancelPromise = new Promise((resolve) => {\n",
              "    cancel.onclick = () => {\n",
              "      resolve(null);\n",
              "    };\n",
              "  });\n",
              "\n",
              "  // Wait for the user to pick the files.\n",
              "  const files = yield {\n",
              "    promise: Promise.race([pickedPromise, cancelPromise]),\n",
              "    response: {\n",
              "      action: 'starting',\n",
              "    }\n",
              "  };\n",
              "\n",
              "  cancel.remove();\n",
              "\n",
              "  // Disable the input element since further picks are not allowed.\n",
              "  inputElement.disabled = true;\n",
              "\n",
              "  if (!files) {\n",
              "    return {\n",
              "      response: {\n",
              "        action: 'complete',\n",
              "      }\n",
              "    };\n",
              "  }\n",
              "\n",
              "  for (const file of files) {\n",
              "    const li = document.createElement('li');\n",
              "    li.append(span(file.name, {fontWeight: 'bold'}));\n",
              "    li.append(span(\n",
              "        `(${file.type || 'n/a'}) - ${file.size} bytes, ` +\n",
              "        `last modified: ${\n",
              "            file.lastModifiedDate ? file.lastModifiedDate.toLocaleDateString() :\n",
              "                                    'n/a'} - `));\n",
              "    const percent = span('0% done');\n",
              "    li.appendChild(percent);\n",
              "\n",
              "    outputElement.appendChild(li);\n",
              "\n",
              "    const fileDataPromise = new Promise((resolve) => {\n",
              "      const reader = new FileReader();\n",
              "      reader.onload = (e) => {\n",
              "        resolve(e.target.result);\n",
              "      };\n",
              "      reader.readAsArrayBuffer(file);\n",
              "    });\n",
              "    // Wait for the data to be ready.\n",
              "    let fileData = yield {\n",
              "      promise: fileDataPromise,\n",
              "      response: {\n",
              "        action: 'continue',\n",
              "      }\n",
              "    };\n",
              "\n",
              "    // Use a chunked sending to avoid message size limits. See b/62115660.\n",
              "    let position = 0;\n",
              "    do {\n",
              "      const length = Math.min(fileData.byteLength - position, MAX_PAYLOAD_SIZE);\n",
              "      const chunk = new Uint8Array(fileData, position, length);\n",
              "      position += length;\n",
              "\n",
              "      const base64 = btoa(String.fromCharCode.apply(null, chunk));\n",
              "      yield {\n",
              "        response: {\n",
              "          action: 'append',\n",
              "          file: file.name,\n",
              "          data: base64,\n",
              "        },\n",
              "      };\n",
              "\n",
              "      let percentDone = fileData.byteLength === 0 ?\n",
              "          100 :\n",
              "          Math.round((position / fileData.byteLength) * 100);\n",
              "      percent.textContent = `${percentDone}% done`;\n",
              "\n",
              "    } while (position < fileData.byteLength);\n",
              "  }\n",
              "\n",
              "  // All done.\n",
              "  yield {\n",
              "    response: {\n",
              "      action: 'complete',\n",
              "    }\n",
              "  };\n",
              "}\n",
              "\n",
              "scope.google = scope.google || {};\n",
              "scope.google.colab = scope.google.colab || {};\n",
              "scope.google.colab._files = {\n",
              "  _uploadFiles,\n",
              "  _uploadFilesContinue,\n",
              "};\n",
              "})(self);\n",
              "</script> "
            ]
          },
          "metadata": {}
        },
        {
          "output_type": "stream",
          "name": "stdout",
          "text": [
            "Saving dataset review produk.zip to dataset review produk.zip\n"
          ]
        }
      ]
    },
    {
      "cell_type": "markdown",
      "source": [
        "Ekstrak file zip yang telah diupload ke direktori yang telah ditentukan"
      ],
      "metadata": {
        "id": "iK8oDc_f8gzi"
      }
    },
    {
      "cell_type": "code",
      "source": [
        "zip_path = '/content/dataset review produk.zip'\n",
        "with zipfile.ZipFile(zip_path, 'r') as zip_ref:\n",
        "    zip_ref.extractall('/content/dataset review produk')"
      ],
      "metadata": {
        "id": "8PYWPKl6j4OZ"
      },
      "execution_count": 4,
      "outputs": []
    },
    {
      "cell_type": "markdown",
      "source": [
        "Melihat contoh text dari dataset"
      ],
      "metadata": {
        "id": "vHu3U9z98p5I"
      }
    },
    {
      "cell_type": "code",
      "source": [
        "file_path = '/content/dataset review produk/Product Reviews Dataset for Emotions Classification Tasks - Indonesian (PRDECT-ID) Dataset/PRDECT-ID Dataset.csv'\n",
        "\n",
        "with open(file_path, 'r') as csvfile:\n",
        "    print(f'Header terlihat seperti berikut:\\n\\n{csvfile.readline()}')\n",
        "    print(f'Text terlihat seperti berikut:\\n\\n{csvfile.readline()}')"
      ],
      "metadata": {
        "colab": {
          "base_uri": "https://localhost:8080/"
        },
        "id": "QWYJsmix70HC",
        "outputId": "66d742eb-66ca-4a01-db67-ed42113500fc"
      },
      "execution_count": 5,
      "outputs": [
        {
          "output_type": "stream",
          "name": "stdout",
          "text": [
            "Header terlihat seperti berikut:\n",
            "\n",
            "Category,Product Name,Location,Price,Overall Rating,Number Sold,Total Review,Customer Rating,Customer Review,Sentiment,Emotion\n",
            "\n",
            "Text terlihat seperti berikut:\n",
            "\n",
            "Computers and Laptops,\"Wireless Keyboard i8 Mini TouchPad Mouse 2.4G Handheld PC Android TV\",Jakarta Utara,53500,4.9,5449,2369,5,\"Alhamdulillah berfungsi dengan baik. Packaging aman. Respon cepat dan ramah. Seller dan kurir amanah\",Positive,Happy\n",
            "\n"
          ]
        }
      ]
    },
    {
      "cell_type": "markdown",
      "source": [
        "## Pre-processing Text"
      ],
      "metadata": {
        "id": "zFGa-UvR778g"
      }
    },
    {
      "cell_type": "markdown",
      "source": [
        "Membuat function `regex_preprocess()` untuk menghilangkan angka beserta tanda baca dan spasi tambahan"
      ],
      "metadata": {
        "id": "P4CRkztE8xSb"
      }
    },
    {
      "cell_type": "code",
      "source": [
        "def regex_preprocess(sentence):\n",
        "  sentence = re.sub(r'[^a-zA-Z\\s]', ' ', sentence)\n",
        "  sentence = re.sub(r'\\s+', ' ', sentence)\n",
        "\n",
        "  return sentence"
      ],
      "metadata": {
        "id": "ebE9WbFD5x45"
      },
      "execution_count": 6,
      "outputs": []
    },
    {
      "cell_type": "markdown",
      "source": [
        "Membuat function `remove_stopwords()` untuk menghilangkan stopwords dan stemming text"
      ],
      "metadata": {
        "id": "HVGqkTdA9Sbw"
      }
    },
    {
      "cell_type": "code",
      "source": [
        "stop_words = set(sw.words('indonesian'))\n",
        "factory = StemmerFactory()\n",
        "stemmer = factory.create_stemmer()\n",
        "\n",
        "def remove_stopwords_and_stemming(sentence):\n",
        "  sentence = sentence.lower()\n",
        "  words = sentence.split()\n",
        "  words = [word for word in words if word.lower() not in stop_words]\n",
        "  filtered_words = [stemmer.stem(word) for word in words]\n",
        "  sentence = \" \".join(filtered_words)\n",
        "  return sentence"
      ],
      "metadata": {
        "id": "u-jATWXx_-Wr"
      },
      "execution_count": 7,
      "outputs": []
    },
    {
      "cell_type": "markdown",
      "source": [
        "Membuat function `parse_data_from_file()` untuk menguraikan text dari dataset dan dimasukkan kedalam sebuah list"
      ],
      "metadata": {
        "id": "ziMztg479x-d"
      }
    },
    {
      "cell_type": "code",
      "source": [
        "def parse_data_from_file(filename):\n",
        "  categories = []\n",
        "  sentences = []\n",
        "  labels = []\n",
        "  with open(filename, 'r') as csvfile:\\\n",
        "\n",
        "    reader = csv.reader(csvfile, delimiter=',')\n",
        "    next(reader)\n",
        "    for item in reader:\n",
        "      categories.append(item[0])\n",
        "      sentence = regex_preprocess(item[8])\n",
        "      sentences.append(remove_stopwords_and_stemming(sentence))\n",
        "      labels.append(item[9])\n",
        "  return categories, sentences, labels"
      ],
      "metadata": {
        "id": "HvNyZQ4yDbSF"
      },
      "execution_count": 8,
      "outputs": []
    },
    {
      "cell_type": "markdown",
      "source": [
        "Mengimplementasikan function function yang dibuat diatas"
      ],
      "metadata": {
        "id": "CrPiOddW-LsG"
      }
    },
    {
      "cell_type": "code",
      "source": [
        "categories, sentences, labels = parse_data_from_file(file_path)\n",
        "print(f'Berikut adalah kategori dari text dibawah :\\n{categories[0]}\\n')\n",
        "print(f'Berikut adalah contoh teks yang sudah dibersihkan :\\n{sentences[0]}\\n')\n",
        "print(f'Ini adalah label teks diatas : {labels[0]}\\n')\n",
        "print(f'Ini adalah total label yang ada : {list(set(labels))}')"
      ],
      "metadata": {
        "colab": {
          "base_uri": "https://localhost:8080/"
        },
        "id": "4XnGG-gtFSB6",
        "outputId": "980430a7-a883-4902-d702-c57317058582"
      },
      "execution_count": 9,
      "outputs": [
        {
          "output_type": "stream",
          "name": "stdout",
          "text": [
            "Berikut adalah kategori dari text dibawah :\n",
            "Computers and Laptops\n",
            "\n",
            "Berikut adalah contoh teks yang sudah dibersihkan :\n",
            "alhamdulillah fungsi packaging aman respon cepat ramah seller kurir amanah\n",
            "\n",
            "Ini adalah label teks diatas : Positive\n",
            "\n",
            "Ini adalah total label yang ada : ['Positive', 'Negative']\n"
          ]
        }
      ]
    },
    {
      "cell_type": "markdown",
      "source": [
        "Cek total text pada dataset"
      ],
      "metadata": {
        "id": "aAfDDP7E-oRY"
      }
    },
    {
      "cell_type": "code",
      "source": [
        "print(f'Total kalimat yang ada pada dataset : {len(sentences)}')\n",
        "print(f'Total label yang ada pada dataset : {len(labels)}')"
      ],
      "metadata": {
        "colab": {
          "base_uri": "https://localhost:8080/"
        },
        "id": "RManBm6h8uf3",
        "outputId": "4cfc7549-5dac-49ad-ed3b-43f772e20c5d"
      },
      "execution_count": 10,
      "outputs": [
        {
          "output_type": "stream",
          "name": "stdout",
          "text": [
            "Total kalimat yang ada pada dataset : 5400\n",
            "Total label yang ada pada dataset : 5400\n"
          ]
        }
      ]
    },
    {
      "cell_type": "markdown",
      "source": [
        "Membagi dataset untuk training dan testing"
      ],
      "metadata": {
        "id": "rwoJGI8Z-sD7"
      }
    },
    {
      "cell_type": "code",
      "source": [
        "X_train, X_test, y_train, y_test = train_test_split(sentences, labels, train_size=0.95)"
      ],
      "metadata": {
        "id": "W5WdGLzE-E7A"
      },
      "execution_count": 11,
      "outputs": []
    },
    {
      "cell_type": "markdown",
      "source": [
        "Cek total text pada dataset training dan testing"
      ],
      "metadata": {
        "id": "roh9JVYX-xOH"
      }
    },
    {
      "cell_type": "code",
      "source": [
        "print(f'Total training set : {len(X_train)}')\n",
        "print(f'Total test set : {len(X_test)}')\n",
        "print(f'Total training labels : {len(y_train)}')\n",
        "print(f'Total test labels : {len(y_test)}')"
      ],
      "metadata": {
        "colab": {
          "base_uri": "https://localhost:8080/"
        },
        "id": "gqUP9RLPBULs",
        "outputId": "04bda2c3-ff78-403e-f31e-fb5b4e32774f"
      },
      "execution_count": 12,
      "outputs": [
        {
          "output_type": "stream",
          "name": "stdout",
          "text": [
            "Total training set : 5130\n",
            "Total test set : 270\n",
            "Total training labels : 5130\n",
            "Total test labels : 270\n"
          ]
        }
      ]
    },
    {
      "cell_type": "markdown",
      "source": [
        "Menentukan hyperparameter"
      ],
      "metadata": {
        "id": "kMEYCCYl-6Ki"
      }
    },
    {
      "cell_type": "code",
      "source": [
        "NUM_WORDS = 10000\n",
        "EMBEDDING_DIM = 16\n",
        "MAXLEN = 16\n",
        "TRUNCATING = 'post'\n",
        "PADDING = 'post'\n",
        "OOV_TOKEN = \"<OOV>\""
      ],
      "metadata": {
        "id": "n1vkr5iq-YJS"
      },
      "execution_count": 13,
      "outputs": []
    },
    {
      "cell_type": "markdown",
      "source": [
        "Membuat function `fit_tokenizer()` untuk tokenisasi text yang kemudian dikonversi ke representasi angka agar bisa dimasukkan kedalam model untuk training"
      ],
      "metadata": {
        "id": "MC7pdGJK_C-5"
      }
    },
    {
      "cell_type": "code",
      "source": [
        "def fit_tokenizer(sentences, oov_token):\n",
        "  tokenizer = Tokenizer(oov_token=oov_token)\n",
        "  tokenizer.fit_on_texts(sentences)\n",
        "\n",
        "  return tokenizer"
      ],
      "metadata": {
        "id": "1paXAK-xyMVQ"
      },
      "execution_count": 14,
      "outputs": []
    },
    {
      "cell_type": "markdown",
      "source": [
        "Membuat function `pad_trunc_sequences()` untuk text yang sudah ditokenisasi agar menjadi sebuah sequences"
      ],
      "metadata": {
        "id": "HL2FplKR_o9D"
      }
    },
    {
      "cell_type": "code",
      "source": [
        "def pad_trunc_sequences(sentences, tokenizer, padding, truncating, maxlen):\n",
        "  sequences = tokenizer.texts_to_sequences(sentences)\n",
        "  pad_trunc_sequences = pad_sequences(sequences, maxlen=maxlen, padding=padding, truncating=truncating)\n",
        "\n",
        "  return pad_trunc_sequences"
      ],
      "metadata": {
        "id": "Y3-PllMG-hjB"
      },
      "execution_count": 15,
      "outputs": []
    },
    {
      "cell_type": "markdown",
      "source": [
        "Membuat function `tokenize_labels()` untuk tokenisasi dan mengubahnya menjadi sequences khusus untuk label"
      ],
      "metadata": {
        "id": "NldtO9LJAB5u"
      }
    },
    {
      "cell_type": "code",
      "source": [
        "def tokenize_labels(labels, split_labels):\n",
        "  label_tokenizer = Tokenizer()\n",
        "  label_tokenizer.fit_on_texts(labels)\n",
        "  word_index = label_tokenizer.word_index\n",
        "\n",
        "  label_seq = label_tokenizer.texts_to_sequences(split_labels)\n",
        "  label_seq = np.array(label_seq) - 1\n",
        "\n",
        "  return word_index, label_seq"
      ],
      "metadata": {
        "id": "O0hSgqrnMMq5"
      },
      "execution_count": 16,
      "outputs": []
    },
    {
      "cell_type": "markdown",
      "source": [
        "Mengimplementasikan function `fit_tokenizer()` diatas"
      ],
      "metadata": {
        "id": "bkePUi_8AYE-"
      }
    },
    {
      "cell_type": "code",
      "source": [
        "tokenizer = fit_tokenizer(X_train, OOV_TOKEN)"
      ],
      "metadata": {
        "id": "P5z9b33dzyUh"
      },
      "execution_count": 17,
      "outputs": []
    },
    {
      "cell_type": "markdown",
      "source": [
        "Mengimplementasikan function `pad_trunc_sequences()` dan `tokenize_labels()` diatas"
      ],
      "metadata": {
        "id": "znvBC7e2BIgN"
      }
    },
    {
      "cell_type": "code",
      "source": [
        "train_padded_seq = pad_trunc_sequences(X_train, tokenizer, PADDING, TRUNCATING, MAXLEN)\n",
        "test_padded_seq = pad_trunc_sequences(X_test, tokenizer, PADDING, TRUNCATING, MAXLEN)\n",
        "train_label_wodex, train_label_seq = tokenize_labels(labels, y_train)\n",
        "test_label_wodex, test_label_seq = tokenize_labels(labels, y_test)"
      ],
      "metadata": {
        "id": "HtMJI9a7_oX5"
      },
      "execution_count": 18,
      "outputs": []
    },
    {
      "cell_type": "markdown",
      "source": [
        "Cek bentuk dan contoh training text yang sudah ditokenisasi"
      ],
      "metadata": {
        "id": "Zc3EkktqBQHz"
      }
    },
    {
      "cell_type": "code",
      "source": [
        "print(f'Berikut adalah shape dari training text yang sudah ditokenisasi: {train_padded_seq.shape}\\n')\n",
        "print(f'Berikut adalah shape dari test text yang sudah ditokenisasi: {test_padded_seq.shape}\\n')\n",
        "print(f'Berikut adalah 3 contoh dari training text yang sudah ditokenisasi:\\n{train_padded_seq[:3]}\\n')\n",
        "print(f'Berikut adalah 3 contoh dari test text yang sudah ditokenisasi:\\n{test_padded_seq[:3]}\\n')"
      ],
      "metadata": {
        "colab": {
          "base_uri": "https://localhost:8080/"
        },
        "id": "xkMtb4y9Wn3p",
        "outputId": "f2eaef9c-7f9a-44f0-efa5-c8db7641b4bc"
      },
      "execution_count": 19,
      "outputs": [
        {
          "output_type": "stream",
          "name": "stdout",
          "text": [
            "Berikut adalah shape dari training text yang sudah ditokenisasi: (5130, 16)\n",
            "\n",
            "Berikut adalah shape dari test text yang sudah ditokenisasi: (270, 16)\n",
            "\n",
            "Berikut adalah 3 contoh dari training text yang sudah ditokenisasi:\n",
            "[[  20   22    7    0    0    0    0    0    0    0    0    0    0    0\n",
            "     0    0]\n",
            " [  78   59    7  114  130   25   18   40   25    0    0    0    0    0\n",
            "     0    0]\n",
            " [ 545   97  193    3   35  696 2965    0    0    0    0    0    0    0\n",
            "     0    0]]\n",
            "\n",
            "Berikut adalah 3 contoh dari test text yang sudah ditokenisasi:\n",
            "[[ 364  521  239    0    0    0    0    0    0    0    0    0    0    0\n",
            "     0    0]\n",
            " [ 120  116  165    9 1709   24  204    0    0    0    0    0    0    0\n",
            "     0    0]\n",
            " [   2  456   33    1    0    0    0    0    0    0    0    0    0    0\n",
            "     0    0]]\n",
            "\n"
          ]
        }
      ]
    },
    {
      "cell_type": "markdown",
      "source": [
        "Looping untuk menyamakan index label dengan `word_index` dari label"
      ],
      "metadata": {
        "id": "dG-sjl_EBWtM"
      }
    },
    {
      "cell_type": "code",
      "source": [
        "for label in train_label_wodex:\n",
        "  train_label_wodex[label] -= 1"
      ],
      "metadata": {
        "id": "pMiX1MdJemRX"
      },
      "execution_count": 20,
      "outputs": []
    },
    {
      "cell_type": "markdown",
      "source": [
        "Cek total label, bentuk dan contoh dari label yang sudah ditokenisasi"
      ],
      "metadata": {
        "id": "KBoVpowvBfsj"
      }
    },
    {
      "cell_type": "code",
      "source": [
        "print(f'Berikut adalah index dan value dari label yang sudah ditokenisasi : {train_label_wodex}\\n')\n",
        "print(f'Berikut adalah shape dari training label yang sudah ditokenisasi: {train_label_seq.shape}\\n')\n",
        "print(f'Berikut adalah shape dari test label yang sudah ditokenisasi: {test_label_seq.shape}\\n')\n",
        "print(f'Berikut adalah 5 contoh dari training label yang sudah ditokenisasi:\\n{train_label_seq[:5]}\\n')\n",
        "print(f'Berikut adalah 5 contoh dari test label yang sudah ditokenisasi:\\n{test_label_seq[:5]}\\n')"
      ],
      "metadata": {
        "colab": {
          "base_uri": "https://localhost:8080/"
        },
        "id": "JRRAI5RpWpAy",
        "outputId": "682df20e-a5f0-4550-da9c-85fd4dad2b0d"
      },
      "execution_count": 21,
      "outputs": [
        {
          "output_type": "stream",
          "name": "stdout",
          "text": [
            "Berikut adalah index dan value dari label yang sudah ditokenisasi : {'negative': 0, 'positive': 1}\n",
            "\n",
            "Berikut adalah shape dari training label yang sudah ditokenisasi: (5130, 1)\n",
            "\n",
            "Berikut adalah shape dari test label yang sudah ditokenisasi: (270, 1)\n",
            "\n",
            "Berikut adalah 5 contoh dari training label yang sudah ditokenisasi:\n",
            "[[1]\n",
            " [0]\n",
            " [0]\n",
            " [1]\n",
            " [0]]\n",
            "\n",
            "Berikut adalah 5 contoh dari test label yang sudah ditokenisasi:\n",
            "[[0]\n",
            " [0]\n",
            " [1]\n",
            " [0]\n",
            " [1]]\n",
            "\n"
          ]
        }
      ]
    },
    {
      "cell_type": "markdown",
      "source": [
        "Mengahpus variabel yang sudah tidak digunakan"
      ],
      "metadata": {
        "id": "zeOaipSWBrK3"
      }
    },
    {
      "cell_type": "code",
      "source": [
        "del train_label_wodex, test_label_wodex"
      ],
      "metadata": {
        "id": "rXYQwPl-fBP-"
      },
      "execution_count": 22,
      "outputs": []
    },
    {
      "cell_type": "markdown",
      "source": [
        "## Build and train model"
      ],
      "metadata": {
        "id": "gFnNpQXr8BK2"
      }
    },
    {
      "cell_type": "markdown",
      "source": [
        "Membuat function `create_model()` yang membuat model menggunakan Sequential Api"
      ],
      "metadata": {
        "id": "IEzg9k6JBuTg"
      }
    },
    {
      "cell_type": "code",
      "source": [
        "def create_model(num_words, embedding_dim, maxlen):\n",
        "  model = tf.keras.Sequential([\n",
        "      tf.keras.layers.Embedding(num_words, embedding_dim, input_length=maxlen),\n",
        "      tf.keras.layers.GlobalAveragePooling1D(),\n",
        "      tf.keras.layers.Reshape((16, 1), input_shape = (16, )),\n",
        "      tf.keras.layers.Bidirectional(tf.keras.layers.LSTM(256, return_sequences=True)),\n",
        "      tf.keras.layers.Dropout(0.25),\n",
        "      tf.keras.layers.Bidirectional(tf.keras.layers.LSTM(64, return_sequences=True)),\n",
        "      tf.keras.layers.Bidirectional(tf.keras.layers.LSTM(32)),\n",
        "      tf.keras.layers.Dropout(0.1),\n",
        "      tf.keras.layers.Dense(1, activation='sigmoid')\n",
        "  ])\n",
        "\n",
        "  model.compile(loss='binary_crossentropy',\n",
        "                optimizer='adam',\n",
        "                metrics=['accuracy'])\n",
        "  return model"
      ],
      "metadata": {
        "id": "cgLT6_3EfGLd"
      },
      "execution_count": 48,
      "outputs": []
    },
    {
      "cell_type": "markdown",
      "source": [
        "Mengimplementasikan function diatas dan melihat ringkasan model yang telah dibuat"
      ],
      "metadata": {
        "id": "koZ-r8YMB4Hv"
      }
    },
    {
      "cell_type": "code",
      "source": [
        "model = create_model(NUM_WORDS, EMBEDDING_DIM, MAXLEN)\n",
        "model.summary()\n",
        "tf.keras.backend.clear_session()"
      ],
      "metadata": {
        "id": "fl7lEL1tt6xu",
        "colab": {
          "base_uri": "https://localhost:8080/"
        },
        "outputId": "67ba37b1-37c5-416e-936b-d6832c99404c"
      },
      "execution_count": 49,
      "outputs": [
        {
          "output_type": "stream",
          "name": "stdout",
          "text": [
            "Model: \"sequential\"\n",
            "_________________________________________________________________\n",
            " Layer (type)                Output Shape              Param #   \n",
            "=================================================================\n",
            " embedding (Embedding)       (None, 16, 16)            160000    \n",
            "                                                                 \n",
            " global_average_pooling1d (  (None, 16)                0         \n",
            " GlobalAveragePooling1D)                                         \n",
            "                                                                 \n",
            " reshape (Reshape)           (None, 16, 1)             0         \n",
            "                                                                 \n",
            " bidirectional (Bidirection  (None, 16, 512)           528384    \n",
            " al)                                                             \n",
            "                                                                 \n",
            " dropout (Dropout)           (None, 16, 512)           0         \n",
            "                                                                 \n",
            " bidirectional_1 (Bidirecti  (None, 16, 128)           295424    \n",
            " onal)                                                           \n",
            "                                                                 \n",
            " bidirectional_2 (Bidirecti  (None, 64)                41216     \n",
            " onal)                                                           \n",
            "                                                                 \n",
            " dropout_1 (Dropout)         (None, 64)                0         \n",
            "                                                                 \n",
            " dense (Dense)               (None, 1)                 65        \n",
            "                                                                 \n",
            "=================================================================\n",
            "Total params: 1025089 (3.91 MB)\n",
            "Trainable params: 1025089 (3.91 MB)\n",
            "Non-trainable params: 0 (0.00 Byte)\n",
            "_________________________________________________________________\n"
          ]
        }
      ]
    },
    {
      "cell_type": "markdown",
      "source": [
        "Training model"
      ],
      "metadata": {
        "id": "_yiOo-v1C1A1"
      }
    },
    {
      "cell_type": "code",
      "source": [
        "history = model.fit(train_padded_seq, train_label_seq, epochs=20, validation_data=(test_padded_seq, test_label_seq))"
      ],
      "metadata": {
        "colab": {
          "base_uri": "https://localhost:8080/"
        },
        "id": "MHIr4Vda2wMo",
        "outputId": "3e3dc97c-1386-4f08-c1c3-8b892bd20228"
      },
      "execution_count": 50,
      "outputs": [
        {
          "output_type": "stream",
          "name": "stdout",
          "text": [
            "Epoch 1/20\n",
            "161/161 [==============================] - 41s 184ms/step - loss: 0.4781 - accuracy: 0.7335 - val_loss: 0.3783 - val_accuracy: 0.8407\n",
            "Epoch 2/20\n",
            "161/161 [==============================] - 28s 173ms/step - loss: 0.1974 - accuracy: 0.9232 - val_loss: 0.2746 - val_accuracy: 0.9074\n",
            "Epoch 3/20\n",
            "161/161 [==============================] - 28s 176ms/step - loss: 0.1310 - accuracy: 0.9579 - val_loss: 0.2921 - val_accuracy: 0.8926\n",
            "Epoch 4/20\n",
            "161/161 [==============================] - 29s 180ms/step - loss: 0.0896 - accuracy: 0.9686 - val_loss: 0.3578 - val_accuracy: 0.8926\n",
            "Epoch 5/20\n",
            "161/161 [==============================] - 29s 178ms/step - loss: 0.0907 - accuracy: 0.9686 - val_loss: 0.3263 - val_accuracy: 0.8741\n",
            "Epoch 6/20\n",
            "161/161 [==============================] - 28s 176ms/step - loss: 0.0743 - accuracy: 0.9721 - val_loss: 0.3495 - val_accuracy: 0.8815\n",
            "Epoch 7/20\n",
            "161/161 [==============================] - 28s 176ms/step - loss: 0.0595 - accuracy: 0.9789 - val_loss: 0.4383 - val_accuracy: 0.8889\n",
            "Epoch 8/20\n",
            "161/161 [==============================] - 29s 183ms/step - loss: 0.0557 - accuracy: 0.9819 - val_loss: 0.5292 - val_accuracy: 0.8704\n",
            "Epoch 9/20\n",
            "161/161 [==============================] - 28s 175ms/step - loss: 0.0558 - accuracy: 0.9825 - val_loss: 0.5825 - val_accuracy: 0.8704\n",
            "Epoch 10/20\n",
            "161/161 [==============================] - 29s 177ms/step - loss: 0.0478 - accuracy: 0.9838 - val_loss: 0.4630 - val_accuracy: 0.8815\n",
            "Epoch 11/20\n",
            "161/161 [==============================] - 28s 174ms/step - loss: 0.0438 - accuracy: 0.9848 - val_loss: 0.4854 - val_accuracy: 0.8630\n",
            "Epoch 12/20\n",
            "161/161 [==============================] - 28s 172ms/step - loss: 0.0374 - accuracy: 0.9867 - val_loss: 0.5076 - val_accuracy: 0.8778\n",
            "Epoch 13/20\n",
            "161/161 [==============================] - 28s 172ms/step - loss: 0.0343 - accuracy: 0.9885 - val_loss: 0.4951 - val_accuracy: 0.8704\n",
            "Epoch 14/20\n",
            "161/161 [==============================] - 28s 172ms/step - loss: 0.0400 - accuracy: 0.9873 - val_loss: 0.5530 - val_accuracy: 0.8704\n",
            "Epoch 15/20\n",
            "161/161 [==============================] - 27s 170ms/step - loss: 0.0382 - accuracy: 0.9875 - val_loss: 0.4713 - val_accuracy: 0.8667\n",
            "Epoch 16/20\n",
            "161/161 [==============================] - 28s 172ms/step - loss: 0.0422 - accuracy: 0.9864 - val_loss: 0.4559 - val_accuracy: 0.8889\n",
            "Epoch 17/20\n",
            "161/161 [==============================] - 29s 179ms/step - loss: 0.0383 - accuracy: 0.9869 - val_loss: 0.5373 - val_accuracy: 0.8593\n",
            "Epoch 18/20\n",
            "161/161 [==============================] - 29s 178ms/step - loss: 0.0380 - accuracy: 0.9873 - val_loss: 0.4832 - val_accuracy: 0.8704\n",
            "Epoch 19/20\n",
            "161/161 [==============================] - 29s 178ms/step - loss: 0.0330 - accuracy: 0.9895 - val_loss: 0.4609 - val_accuracy: 0.8593\n",
            "Epoch 20/20\n",
            "161/161 [==============================] - 28s 173ms/step - loss: 0.0401 - accuracy: 0.9871 - val_loss: 0.5480 - val_accuracy: 0.8556\n"
          ]
        }
      ]
    },
    {
      "cell_type": "markdown",
      "source": [
        "## Evaluate model"
      ],
      "metadata": {
        "id": "-4d_7xDB8Ipb"
      }
    },
    {
      "cell_type": "markdown",
      "source": [
        "Membuat function `create_plot()` untuk memplot hasil training model"
      ],
      "metadata": {
        "id": "5neU7oRbC3BJ"
      }
    },
    {
      "cell_type": "code",
      "source": [
        "def create_plot(history, string):\n",
        "  plt.plot(history.history[string], 'r', label='Training '+string)\n",
        "  plt.plot(history.history['val_'+string], 'b', label='Validation '+string)\n",
        "  plt.title('Training and validation '+string)\n",
        "  plt.legend()\n",
        "  plt.show()\n",
        "  print('')"
      ],
      "metadata": {
        "id": "b0Han0k3U6Xm"
      },
      "execution_count": 51,
      "outputs": []
    },
    {
      "cell_type": "markdown",
      "source": [
        "Mengimplementasikan function diatas"
      ],
      "metadata": {
        "id": "TFCjr8REC942"
      }
    },
    {
      "cell_type": "code",
      "source": [
        "create_plot(history, 'accuracy')\n",
        "create_plot(history, 'loss')"
      ],
      "metadata": {
        "colab": {
          "base_uri": "https://localhost:8080/",
          "height": 922
        },
        "id": "7QcZvihOZTOr",
        "outputId": "4d0a1600-f864-4492-f24f-8eda35175088"
      },
      "execution_count": 52,
      "outputs": [
        {
          "output_type": "display_data",
          "data": {
            "text/plain": [
              "<Figure size 640x480 with 1 Axes>"
            ],
            "image/png": "[encoded data removed]"
          },
          "metadata": {}
        },
        {
          "output_type": "stream",
          "name": "stdout",
          "text": [
            "\n"
          ]
        },
        {
          "output_type": "display_data",
          "data": {
            "text/plain": [
              "<Figure size 640x480 with 1 Axes>"
            ],
            "image/png": "[encoded data removed]"
          },
          "metadata": {}
        },
        {
          "output_type": "stream",
          "name": "stdout",
          "text": [
            "\n"
          ]
        }
      ]
    },
    {
      "cell_type": "markdown",
      "source": [
        "Menyimpan model yang telah ditrain ke format HDF5"
      ],
      "metadata": {
        "id": "a8rxcsPeDBEA"
      }
    },
    {
      "cell_type": "code",
      "source": [
        "model.save('sentiment analysis model.h5')"
      ],
      "metadata": {
        "colab": {
          "base_uri": "https://localhost:8080/"
        },
        "id": "WCmiu_tae4PS",
        "outputId": "bdd49fec-d8e9-4c58-aefc-d80bdd46eadf"
      },
      "execution_count": 53,
      "outputs": [
        {
          "output_type": "stream",
          "name": "stderr",
          "text": [
            "/usr/local/lib/python3.10/dist-packages/keras/src/engine/training.py:3103: UserWarning: You are saving your model as an HDF5 file via `model.save()`. This file format is considered legacy. We recommend using instead the native Keras format, e.g. `model.save('my_model.keras')`.\n",
            "  saving_api.save_model(\n"
          ]
        }
      ]
    },
    {
      "cell_type": "markdown",
      "source": [
        "Evaluasi model menggunakan dataset testing"
      ],
      "metadata": {
        "id": "XRlsPSVnDE3V"
      }
    },
    {
      "cell_type": "code",
      "source": [
        "loss, accuracy = model.evaluate(test_padded_seq, test_label_seq)\n",
        "\n",
        "print(f'\\nLoss: {loss}')\n",
        "print(f'Accuracy: {accuracy}')"
      ],
      "metadata": {
        "colab": {
          "base_uri": "https://localhost:8080/"
        },
        "id": "U34e-RTJ6eOk",
        "outputId": "9f5f798f-0552-4ff3-8d0e-40d02b7af731"
      },
      "execution_count": 54,
      "outputs": [
        {
          "output_type": "stream",
          "name": "stdout",
          "text": [
            "9/9 [==============================] - 0s 41ms/step - loss: 0.5480 - accuracy: 0.8556\n",
            "\n",
            "Loss: 0.5480131506919861\n",
            "Accuracy: 0.855555534362793\n"
          ]
        }
      ]
    },
    {
      "cell_type": "markdown",
      "source": [
        "Memprediksi text yang diinput menggunakan model yang telah dibuat"
      ],
      "metadata": {
        "id": "_c8Uqjf4DIyo"
      }
    },
    {
      "cell_type": "code",
      "source": [
        "input_text = input('Masukkan text sentimen: ')\n",
        "\n",
        "print('Text yang dimasukkan adalah :', input_text)\n",
        "\n",
        "input_text = regex_preprocess(input_text)\n",
        "input_text = remove_stopwords_and_stemming(input_text)\n",
        "\n",
        "input_seq = tokenizer.texts_to_sequences([input_text])\n",
        "input_padded = pad_sequences(input_seq, maxlen=MAXLEN, padding=PADDING, truncating=TRUNCATING)\n",
        "\n",
        "predictions = model.predict(input_padded)\n",
        "\n",
        "if predictions[0][0] > 0.5:\n",
        "  print('Text tersebut memiliki sentimen positif')\n",
        "else:\n",
        "  print('Text tersebut memiliki sentimen negatif')"
      ],
      "metadata": {
        "colab": {
          "base_uri": "https://localhost:8080/"
        },
        "id": "nNG2F_OufL9F",
        "outputId": "3bba337a-6b9f-4a13-f9cc-4b72b76d957d"
      },
      "execution_count": 57,
      "outputs": [
        {
          "output_type": "stream",
          "name": "stdout",
          "text": [
            "Masukkan text sentimen: barangnya bagus, harganya murah namun kualitasnya sangat baik\n",
            "Text yang dimasukkan adalah : barangnya bagus, harganya murah namun kualitasnya sangat baik\n",
            "1/1 [==============================] - 0s 37ms/step\n",
            "Text tersebut memiliki sentimen positif\n"
          ]
        }
      ]
    }
  ]
}